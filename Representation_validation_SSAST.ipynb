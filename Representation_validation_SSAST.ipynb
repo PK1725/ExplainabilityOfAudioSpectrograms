{
  "nbformat": 4,
  "nbformat_minor": 0,
  "metadata": {
    "colab": {
      "provenance": [],
      "gpuType": "T4"
    },
    "kernelspec": {
      "name": "python3",
      "display_name": "Python 3"
    },
    "language_info": {
      "name": "python"
    },
    "accelerator": "GPU"
  },
  "cells": [
    {
      "cell_type": "code",
      "execution_count": null,
      "metadata": {
        "colab": {
          "base_uri": "https://localhost:8080/"
        },
        "id": "VCPYYbTHAGS0",
        "outputId": "ad3ddd5b-b14e-467d-9818-0159c413d66b"
      },
      "outputs": [
        {
          "output_type": "stream",
          "name": "stdout",
          "text": [
            "Cloning into 'ssast_custom'...\n",
            "remote: Enumerating objects: 568, done.\u001b[K\n",
            "remote: Counting objects: 100% (5/5), done.\u001b[K\n",
            "remote: Compressing objects: 100% (5/5), done.\u001b[K\n",
            "remote: Total 568 (delta 0), reused 0 (delta 0), pack-reused 563\u001b[K\n",
            "Receiving objects: 100% (568/568), 11.99 MiB | 7.91 MiB/s, done.\n",
            "Resolving deltas: 100% (331/331), done.\n",
            "--2023-12-18 14:46:50--  https://www.dropbox.com/s/ewrzpco95n9jdz6/SSAST-Base-Patch-400.pth?dl=1\n",
            "Resolving www.dropbox.com (www.dropbox.com)... 162.125.2.18, 2620:100:6021:18::a27d:4112\n",
            "Connecting to www.dropbox.com (www.dropbox.com)|162.125.2.18|:443... connected.\n",
            "HTTP request sent, awaiting response... 302 Found\n",
            "Location: /s/dl/ewrzpco95n9jdz6/SSAST-Base-Patch-400.pth [following]\n",
            "--2023-12-18 14:46:51--  https://www.dropbox.com/s/dl/ewrzpco95n9jdz6/SSAST-Base-Patch-400.pth\n",
            "Reusing existing connection to www.dropbox.com:443.\n",
            "HTTP request sent, awaiting response... 302 Found\n",
            "Location: https://uc386d3b04ac45393abea8b70f17.dl.dropboxusercontent.com/cd/0/get/CJrHsB0huxoEz8_oPbndPOvC_CeoFgdUBTsRxwLjqso8KbIJlBOnK7IIqv6T47vFqffYV187OVRDhENjcqnpX_o6DiH3pSygsOjen6ehZJcUzFmC38ypOg_mqBxrDX6PJdTgVUDjW2uFfbNU8V0IJBPJ/file?dl=1# [following]\n",
            "--2023-12-18 14:46:51--  https://uc386d3b04ac45393abea8b70f17.dl.dropboxusercontent.com/cd/0/get/CJrHsB0huxoEz8_oPbndPOvC_CeoFgdUBTsRxwLjqso8KbIJlBOnK7IIqv6T47vFqffYV187OVRDhENjcqnpX_o6DiH3pSygsOjen6ehZJcUzFmC38ypOg_mqBxrDX6PJdTgVUDjW2uFfbNU8V0IJBPJ/file?dl=1\n",
            "Resolving uc386d3b04ac45393abea8b70f17.dl.dropboxusercontent.com (uc386d3b04ac45393abea8b70f17.dl.dropboxusercontent.com)... 162.125.2.15, 2620:100:6017:15::a27d:20f\n",
            "Connecting to uc386d3b04ac45393abea8b70f17.dl.dropboxusercontent.com (uc386d3b04ac45393abea8b70f17.dl.dropboxusercontent.com)|162.125.2.15|:443... connected.\n",
            "HTTP request sent, awaiting response... 200 OK\n",
            "Length: 355117163 (339M) [application/binary]\n",
            "Saving to: ‘SSAST-Base-Patch-400.pth’\n",
            "\n",
            "SSAST-Base-Patch-40 100%[===================>] 338.67M  79.5MB/s    in 4.2s    \n",
            "\n",
            "2023-12-18 14:46:56 (80.5 MB/s) - ‘SSAST-Base-Patch-400.pth’ saved [355117163/355117163]\n",
            "\n",
            "Collecting timm==0.4.5\n",
            "  Downloading timm-0.4.5-py3-none-any.whl (287 kB)\n",
            "\u001b[2K     \u001b[90m━━━━━━━━━━━━━━━━━━━━━━━━━━━━━━━━━━━━━━━━\u001b[0m \u001b[32m287.4/287.4 kB\u001b[0m \u001b[31m3.3 MB/s\u001b[0m eta \u001b[36m0:00:00\u001b[0m\n",
            "\u001b[?25hRequirement already satisfied: torch>=1.4 in /usr/local/lib/python3.10/dist-packages (from timm==0.4.5) (2.1.0+cu121)\n",
            "Requirement already satisfied: torchvision in /usr/local/lib/python3.10/dist-packages (from timm==0.4.5) (0.16.0+cu121)\n",
            "Requirement already satisfied: filelock in /usr/local/lib/python3.10/dist-packages (from torch>=1.4->timm==0.4.5) (3.13.1)\n",
            "Requirement already satisfied: typing-extensions in /usr/local/lib/python3.10/dist-packages (from torch>=1.4->timm==0.4.5) (4.5.0)\n",
            "Requirement already satisfied: sympy in /usr/local/lib/python3.10/dist-packages (from torch>=1.4->timm==0.4.5) (1.12)\n",
            "Requirement already satisfied: networkx in /usr/local/lib/python3.10/dist-packages (from torch>=1.4->timm==0.4.5) (3.2.1)\n",
            "Requirement already satisfied: jinja2 in /usr/local/lib/python3.10/dist-packages (from torch>=1.4->timm==0.4.5) (3.1.2)\n",
            "Requirement already satisfied: fsspec in /usr/local/lib/python3.10/dist-packages (from torch>=1.4->timm==0.4.5) (2023.6.0)\n",
            "Requirement already satisfied: triton==2.1.0 in /usr/local/lib/python3.10/dist-packages (from torch>=1.4->timm==0.4.5) (2.1.0)\n",
            "Requirement already satisfied: numpy in /usr/local/lib/python3.10/dist-packages (from torchvision->timm==0.4.5) (1.23.5)\n",
            "Requirement already satisfied: requests in /usr/local/lib/python3.10/dist-packages (from torchvision->timm==0.4.5) (2.31.0)\n",
            "Requirement already satisfied: pillow!=8.3.*,>=5.3.0 in /usr/local/lib/python3.10/dist-packages (from torchvision->timm==0.4.5) (9.4.0)\n",
            "Requirement already satisfied: MarkupSafe>=2.0 in /usr/local/lib/python3.10/dist-packages (from jinja2->torch>=1.4->timm==0.4.5) (2.1.3)\n",
            "Requirement already satisfied: charset-normalizer<4,>=2 in /usr/local/lib/python3.10/dist-packages (from requests->torchvision->timm==0.4.5) (3.3.2)\n",
            "Requirement already satisfied: idna<4,>=2.5 in /usr/local/lib/python3.10/dist-packages (from requests->torchvision->timm==0.4.5) (3.6)\n",
            "Requirement already satisfied: urllib3<3,>=1.21.1 in /usr/local/lib/python3.10/dist-packages (from requests->torchvision->timm==0.4.5) (2.0.7)\n",
            "Requirement already satisfied: certifi>=2017.4.17 in /usr/local/lib/python3.10/dist-packages (from requests->torchvision->timm==0.4.5) (2023.11.17)\n",
            "Requirement already satisfied: mpmath>=0.19 in /usr/local/lib/python3.10/dist-packages (from sympy->torch>=1.4->timm==0.4.5) (1.3.0)\n",
            "Installing collected packages: timm\n",
            "Successfully installed timm-0.4.5\n",
            "Mounted at /content/drive\n"
          ]
        }
      ],
      "source": [
        "from google.colab import auth\n",
        "from datetime import datetime\n",
        "import os\n",
        "import numpy as np\n",
        "import pandas as pd\n",
        "from google.colab import drive\n",
        "import torch\n",
        "import torchaudio\n",
        "import matplotlib.pyplot as plt\n",
        "import matplotlib.gridspec as gridspec\n",
        "from sklearn import svm\n",
        "from sklearn.neighbors import KNeighborsClassifier\n",
        "from sklearn.linear_model import LogisticRegression\n",
        "import zipfile\n",
        "import requests\n",
        "from io import BytesIO\n",
        "from sklearn.decomposition import PCA\n",
        "from sklearn.manifold import TSNE\n",
        "!git clone https://github.com/PK1725/ssast_custom.git\n",
        "!wget https://www.dropbox.com/s/ewrzpco95n9jdz6/SSAST-Base-Patch-400.pth?dl=1 -O SSAST-Base-Patch-400.pth\n",
        "\n",
        "!pip install timm==\"0.4.5\"\n",
        "from ssast_custom.src.models import ASTModel\n",
        "\n",
        "# Import .wav file from Google Drive\n",
        "#from google.colab import drive\n",
        "drive.mount('/content/drive')"
      ]
    },
    {
      "cell_type": "code",
      "source": [
        "\n",
        "def wav2fbank(filename, filename2=None):\n",
        "        # mixup\n",
        "        if filename2 == None:\n",
        "            waveform, sr = torchaudio.load(filename)\n",
        "            waveform = waveform - waveform.mean()\n",
        "        # mixup\n",
        "        else:\n",
        "            waveform1, sr = torchaudio.load(filename)\n",
        "            waveform2, _ = torchaudio.load(filename2)\n",
        "\n",
        "            waveform1 = waveform1 - waveform1.mean()\n",
        "            waveform2 = waveform2 - waveform2.mean()\n",
        "\n",
        "            if waveform1.shape[1] != waveform2.shape[1]:\n",
        "                if waveform1.shape[1] > waveform2.shape[1]:\n",
        "                    # padding\n",
        "                    temp_wav = torch.zeros(1, waveform1.shape[1])\n",
        "                    temp_wav[0, 0:waveform2.shape[1]] = waveform\n",
        "                    waveform2 = temp_wav\n",
        "                else:\n",
        "                    # cutting\n",
        "                    waveform2 = waveform2[0, 0:waveform1.shape[1]]\n",
        "\n",
        "            # sample lambda from uniform distribution\n",
        "            #mix_lambda = random.random()\n",
        "            # sample lambda from beta distribtion\n",
        "            mix_lambda = np.random.beta(10, 10)\n",
        "\n",
        "            mix_waveform = mix_lambda * waveform1 + (1 - mix_lambda) * waveform2\n",
        "            waveform = mix_waveform - mix_waveform.mean()\n",
        "\n",
        "        fbank = torchaudio.compliance.kaldi.fbank(waveform, htk_compat=True, sample_frequency=sr, use_energy=False,\n",
        "                                                  window_type='hanning', num_mel_bins=128, dither=0.0, frame_shift=10)\n",
        "\n",
        "        target_length = 1024\n",
        "        n_frames = fbank.shape[0]\n",
        "\n",
        "        p = target_length - n_frames\n",
        "\n",
        "        # cut and pad\n",
        "        if p > 0:\n",
        "            m = torch.nn.ZeroPad2d((0, 0, 0, p))\n",
        "            fbank = m(fbank)\n",
        "        elif p < 0:\n",
        "            fbank = fbank[0:target_length, :]\n",
        "\n",
        "        if filename2 == None:\n",
        "            return fbank, 0\n",
        "        else:\n",
        "            return fbank, mix_lambda\n",
        "def norm_fbank(fbank):\n",
        "    norm_mean= -4.2677393\n",
        "    norm_std= 4.5689974\n",
        "    fbank = (fbank - norm_mean) / (norm_std * 2)\n",
        "    return fbank\n",
        "def display_fbank(bank, minmin=None, maxmax=None):\n",
        "    plt.figure(figsize=(20, 4))\n",
        "    plt.imshow(20*bank.T.numpy(), origin='lower', interpolation='nearest', vmax=maxmax, vmin=minmin,  aspect='auto')"
      ],
      "metadata": {
        "id": "N4Nk_RShAw53"
      },
      "execution_count": null,
      "outputs": []
    },
    {
      "cell_type": "code",
      "source": [
        "!pwd"
      ],
      "metadata": {
        "colab": {
          "base_uri": "https://localhost:8080/"
        },
        "id": "LxxdxO2fDtjK",
        "outputId": "6c55e4a6-0495-4e64-f6e6-4f40b043ff78"
      },
      "execution_count": null,
      "outputs": [
        {
          "output_type": "stream",
          "name": "stdout",
          "text": [
            "/content\n"
          ]
        }
      ]
    },
    {
      "cell_type": "code",
      "source": [
        "\n",
        "# Create a new folder\n",
        "drum_path = \"drums\"  # Adjust the path as needed\n",
        "violin_path = \"violins\"  # Adjust the path as needed\n",
        "\n",
        "# Create the folder if it doesn't exist\n",
        "if not os.path.exists(drum_path):\n",
        "    os.makedirs(drum_path)\n",
        "# Create the folder if it doesn't exist\n",
        "if not os.path.exists(violin_path):\n",
        "    os.makedirs(violin_path)\n",
        "\n",
        "# Your modified Dropbox link\n",
        "url_drum = 'https://www.dropbox.com/scl/fo/ynvpkxxt8svyujbygjmhb/h?rlkey=dc5x0fe5baumy8h3oukydry0g&dl=1' #'https://www.dropbox.com/scl/fo/3r6y5rukigkeojz6rz3t8/h?rlkey=t8tkj85lepfql5vbjisq7a18n&dl=1'  # Replace with your modified link\n",
        "url_violin = 'https://www.dropbox.com/scl/fo/ahxcyxzeesu496zbedoac/h?rlkey=tru7pweiz5sss90dow9l9n5gs&dl=1'#'https://www.dropbox.com/scl/fo/3zmoanvnhskd0st2zrqtz/h?rlkey=fkya4kg6ztos6akb5t8dbcheb&dl=1'  # Replace with your modified link\n",
        "\n",
        "# Send a request to the URL\n",
        "response = requests.get(url_drum)\n",
        "\n",
        "# Open the response content in bytes, then extract and save it in the new folder\n",
        "with zipfile.ZipFile(BytesIO(response.content)) as zip_ref:\n",
        "    zip_ref.extractall(drum_path)\n",
        "# Send a request to the URL\n",
        "response = requests.get(url_violin)\n",
        "\n",
        "# Open the response content in bytes, then extract and save it in the new folder\n",
        "with zipfile.ZipFile(BytesIO(response.content)) as zip_ref:\n",
        "    zip_ref.extractall(violin_path)\n",
        "\n",
        "print(\"Download and extraction complete!\")"
      ],
      "metadata": {
        "colab": {
          "base_uri": "https://localhost:8080/"
        },
        "id": "D6P1j65IANWY",
        "outputId": "75dfe8f3-5217-4dac-c555-a037f90e3769"
      },
      "execution_count": null,
      "outputs": [
        {
          "output_type": "stream",
          "name": "stdout",
          "text": [
            "Download and extraction complete!\n"
          ]
        }
      ]
    },
    {
      "cell_type": "code",
      "source": [
        "input_tdim = 1024  # fine-tuning data length can be different with pretraining data length\n",
        "ast_mdl = ASTModel(label_dim=527,\n",
        "             fshape=16, tshape=16, fstride=16, tstride=16,\n",
        "             input_fdim=128, input_tdim=input_tdim, model_size='base',\n",
        "             pretrain_stage=False, load_pretrained_mdl_path='SSAST-Base-Patch-400.pth')"
      ],
      "metadata": {
        "colab": {
          "base_uri": "https://localhost:8080/"
        },
        "id": "t8T4tsfXFHkf",
        "outputId": "2cbc5983-b1ff-4314-f163-829ac3f5ae9e"
      },
      "execution_count": null,
      "outputs": [
        {
          "output_type": "stream",
          "name": "stdout",
          "text": [
            "now load a SSL pretrained models from SSAST-Base-Patch-400.pth\n",
            "pretraining patch split stride: frequency=16, time=16\n",
            "pretraining patch shape: frequency=16, time=16\n",
            "pretraining patch array dimension: frequency=8, time=64\n",
            "pretraining number of patches=512\n",
            "fine-tuning patch split stride: frequncey=16, time=16\n",
            "fine-tuning number of patches=512\n"
          ]
        }
      ]
    },
    {
      "cell_type": "code",
      "source": [
        "import random\n",
        "def filter_wav_elements(input_list):\n",
        "    return [element for element in input_list if element.endswith(\".wav\")]\n",
        "\n",
        "# Generate representations\n",
        "data_drums_path = 'drums'\n",
        "data_violin_path = 'violins'\n",
        "\n",
        "# List all files in the specified folder\n",
        "data_drums = os.listdir(data_drums_path)\n",
        "data_drums = filter_wav_elements(data_drums)\n",
        "data_violin = os.listdir(data_violin_path)\n",
        "data_violin = filter_wav_elements(data_violin)\n",
        "\n",
        "min_data_length = np.min([len(data_drums),len(data_violin)])\n",
        "song_indices = list(range(min_data_length))\n",
        "\n",
        "n_test = 20\n",
        "\n",
        "test_set_indices = random.sample(song_indices, n_test)\n",
        "\n",
        "\n",
        "test_violin = [data_drums[i] for i in test_set_indices]\n",
        "test_drums = [data_violin[i] for i in test_set_indices]\n",
        "train_violin =[data_drums[i] for i in song_indices if i not in test_set_indices]\n",
        "train_drums =[data_violin[i] for i in song_indices if i not in test_set_indices]\n",
        "\n",
        "\n",
        "\n",
        "\n",
        "\n",
        "X = np.zeros((len(train_violin)+len(train_drums),768))\n",
        "X_test = np.zeros((len(test_violin)+len(test_drums),768))\n",
        "device = torch.device(\"cuda\" if torch.cuda.is_available() else \"cpu\")\n",
        "\n",
        "for i,clip in enumerate(train_violin):\n",
        "  fbank,_ = wav2fbank(\"violins/\" + clip)\n",
        "  fbank = fbank.to(device)\n",
        "  x = fbank.unsqueeze(0)\n",
        "\n",
        "  representation = ast_mdl(x,task='ft_avgtok').cpu().detach().numpy()\n",
        "  X[i,:] = representation\n",
        "\n",
        "for i,clip in enumerate(test_violin):\n",
        "  fbank,_ = wav2fbank(\"violins/\" + clip)\n",
        "  fbank = fbank.to(device)\n",
        "  x = fbank.unsqueeze(0)\n",
        "\n",
        "  representation = ast_mdl(x,task='ft_avgtok').cpu().detach().numpy()\n",
        "  X_test[i,:] = representation\n",
        "\n",
        "for i,clip in enumerate(train_drums):\n",
        "  fbank,_ = wav2fbank(\"drums/\" + clip)\n",
        "  fbank = fbank.to(device)\n",
        "  x = fbank.unsqueeze(0)\n",
        "\n",
        "  representation = ast_mdl(x,task='ft_avgtok').cpu().detach().numpy()\n",
        "  X[i+len(train_violin),:] = representation\n",
        "\n",
        "for i,clip in enumerate(test_drums):\n",
        "  fbank,_ = wav2fbank(\"drums/\" + clip)\n",
        "  fbank = fbank.to(device)\n",
        "  x = fbank.unsqueeze(0)\n",
        "\n",
        "  representation = ast_mdl(x,task='ft_avgtok').cpu().detach().numpy()\n",
        "  X_test[i+len(test_violin),:] = representation\n",
        "\n",
        "y = np.concatenate((np.zeros(len(train_violin)), np.ones(len(train_drums))))\n",
        "y_test = np.concatenate((np.zeros(len(test_violin)), np.ones(len(test_drums))))\n",
        "\n"
      ],
      "metadata": {
        "id": "XvI2rhpgC9J6"
      },
      "execution_count": null,
      "outputs": []
    },
    {
      "cell_type": "code",
      "source": [
        "#clf = svm.SVC()\n",
        "#clf = KNeighborsClassifier(n_neighbors=4)\n",
        "clf = LogisticRegression(random_state=0)\n",
        "clf.fit(X, y)\n",
        "preds = clf.predict(X_test)\n",
        "print(preds)\n",
        "from sklearn.metrics import accuracy_score\n",
        "acc = accuracy_score(y_test, preds)\n",
        "print(acc)\n"
      ],
      "metadata": {
        "colab": {
          "base_uri": "https://localhost:8080/"
        },
        "id": "H4v2vBj3Ifm4",
        "outputId": "7970f501-a039-49aa-a5bd-ad4aca2c54e7"
      },
      "execution_count": null,
      "outputs": [
        {
          "output_type": "stream",
          "name": "stdout",
          "text": [
            "[1. 0. 1. 0. 0. 0. 1. 0. 0. 0. 1. 0. 1. 0. 0. 0. 0. 0. 0. 0. 1. 1. 1. 1.\n",
            " 1. 1. 1. 1. 0. 1. 1. 0. 1. 1. 1. 0. 1. 1. 1. 1.]\n",
            "0.8\n"
          ]
        },
        {
          "output_type": "stream",
          "name": "stderr",
          "text": [
            "/usr/local/lib/python3.10/dist-packages/sklearn/linear_model/_logistic.py:458: ConvergenceWarning: lbfgs failed to converge (status=1):\n",
            "STOP: TOTAL NO. of ITERATIONS REACHED LIMIT.\n",
            "\n",
            "Increase the number of iterations (max_iter) or scale the data as shown in:\n",
            "    https://scikit-learn.org/stable/modules/preprocessing.html\n",
            "Please also refer to the documentation for alternative solver options:\n",
            "    https://scikit-learn.org/stable/modules/linear_model.html#logistic-regression\n",
            "  n_iter_i = _check_optimize_result(\n"
          ]
        }
      ]
    },
    {
      "cell_type": "code",
      "source": [
        "import os\n",
        "import numpy as np\n",
        "import torch\n",
        "from sklearn.manifold import TSNE\n",
        "import matplotlib.pyplot as plt\n",
        "from scipy.spatial.distance import pdist\n",
        "from scipy.spatial.distance import squareform\n",
        "# Concatenate the training and test data\n",
        "X_combined = np.vstack((X, X_test))\n",
        "# Calculate t-SNE embeddings for the combined data\n",
        "tsne = TSNE(n_components=2, perplexity=30, n_iter=300)\n",
        "tsne_embeddings = tsne.fit_transform(X_combined)\n",
        "\n",
        "# Separate the t-SNE embeddings for training and test data\n",
        "tsne_train = tsne_embeddings[:len(X)]\n",
        "tsne_test = tsne_embeddings[len(X):]\n"
      ],
      "metadata": {
        "id": "9AnOz-NQa47E"
      },
      "execution_count": null,
      "outputs": []
    },
    {
      "cell_type": "code",
      "source": [
        "\n",
        "# Create a scatter plot for training data\n",
        "plt.figure(figsize=(10, 5))\n",
        "plt.scatter(tsne_train[y == 0, 0], tsne_train[y == 0, 1], label='All-Star Orchestra', c='r', marker='o')\n",
        "plt.scatter(tsne_train[y == 1, 0], tsne_train[y == 1, 1], label='Fulda Symphonic Orchestra', c='b', marker='s')\n",
        "\n",
        "\n",
        "plt.scatter(tsne_test[y_test == 0, 0], tsne_test[y_test == 0, 1], c='r', marker='o')\n",
        "plt.scatter(tsne_test[y_test == 1, 0], tsne_test[y_test == 1, 1], c='b', marker='s')\n",
        "\n",
        "# Add labels and legend\n",
        "plt.title('SSAST: t-SNE Visualization of Beethoven 5th Symphony, Mov I by two orchestras')\n",
        "plt.legend()\n",
        "# Show the plot\n",
        "plt.show()\n"
      ],
      "metadata": {
        "colab": {
          "base_uri": "https://localhost:8080/",
          "height": 468
        },
        "id": "ZoDjyXgXa5qc",
        "outputId": "2170a25e-4198-4a39-f743-86f7c19ca898"
      },
      "execution_count": null,
      "outputs": [
        {
          "output_type": "display_data",
          "data": {
            "text/plain": [
              "<Figure size 1000x500 with 1 Axes>"
            ],
            "image/png": "[encoded data removed]"
          },
          "metadata": {}
        }
      ]
    },
    {
      "cell_type": "code",
      "source": [],
      "metadata": {
        "id": "tE0VeOxGsNXP"
      },
      "execution_count": null,
      "outputs": []
    }
  ]
}